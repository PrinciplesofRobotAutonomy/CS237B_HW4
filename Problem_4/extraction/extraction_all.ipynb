{
 "cells": [
  {
   "cell_type": "markdown",
   "metadata": {},
   "source": [
    "# Scenario Extraction"
   ]
  },
  {
   "cell_type": "code",
   "execution_count": 2,
   "metadata": {},
   "outputs": [],
   "source": [
    "%load_ext autoreload\n",
    "%autoreload 2\n",
    "import os\n",
    "import csv\n",
    "import json\n",
    "import matplotlib.pyplot as plt\n",
    "from traffic_object import TrafficObject\n",
    "from tools import dump_json, maybe_makedirs\n",
    "from objects import Scenario"
   ]
  },
  {
   "cell_type": "code",
   "execution_count": 3,
   "metadata": {},
   "outputs": [],
   "source": [
    "root_dir = '../' # This has to be the path to Problem folder (not the extraction folder)"
   ]
  },
  {
   "cell_type": "code",
   "execution_count": 7,
   "metadata": {},
   "outputs": [
    {
     "name": "stdout",
     "output_type": "stream",
     "text": "nario_60_085.json\nWriting dump: /Users/kitty/GitRepos/RandomRepos/stanford-2019/extraction/data_all/scenario_60_086.json\nWriting dump: /Users/kitty/GitRepos/RandomRepos/stanford-2019/extraction/data_all/scenario_60_087.json\nWriting dump: /Users/kitty/GitRepos/RandomRepos/stanford-2019/extraction/data_all/scenario_60_088.json\nWriting dump: /Users/kitty/GitRepos/RandomRepos/stanford-2019/extraction/data_all/scenario_60_089.json\nWriting dump: /Users/kitty/GitRepos/RandomRepos/stanford-2019/extraction/data_all/scenario_60_090.json\nWriting dump: /Users/kitty/GitRepos/RandomRepos/stanford-2019/extraction/data_all/scenario_60_091.json\nWriting dump: /Users/kitty/GitRepos/RandomRepos/stanford-2019/extraction/data_all/scenario_60_092.json\nWriting dump: /Users/kitty/GitRepos/RandomRepos/stanford-2019/extraction/data_all/scenario_60_093.json\nWriting dump: /Users/kitty/GitRepos/RandomRepos/stanford-2019/extraction/data_all/scenario_60_094.json\nWriting dump: /Users/kitty/GitRepos/RandomRepos/stanford-2019/extraction/data_all/scenario_60_095.json\nWriting dump: /Users/kitty/GitRepos/RandomRepos/stanford-2019/extraction/data_all/scenario_60_096.json\nWriting dump: /Users/kitty/GitRepos/RandomRepos/stanford-2019/extraction/data_all/scenario_60_097.json\nWriting dump: /Users/kitty/GitRepos/RandomRepos/stanford-2019/extraction/data_all/scenario_60_098.json\nWriting dump: /Users/kitty/GitRepos/RandomRepos/stanford-2019/extraction/data_all/scenario_60_099.json\nWriting dump: /Users/kitty/GitRepos/RandomRepos/stanford-2019/extraction/data_all/scenario_60_100.json\nWriting dump: /Users/kitty/GitRepos/RandomRepos/stanford-2019/extraction/data_all/scenario_60_101.json\nWriting dump: /Users/kitty/GitRepos/RandomRepos/stanford-2019/extraction/data_all/scenario_60_102.json\nWriting dump: /Users/kitty/GitRepos/RandomRepos/stanford-2019/extraction/data_all/scenario_60_103.json\nWriting dump: /Users/kitty/GitRepos/RandomRepos/stanford-2019/extraction/data_all/scenario_60_104.json\nWriting dump: /Users/kitty/GitRepos/RandomRepos/stanford-2019/extraction/data_all/scenario_60_105.json\nWriting dump: /Users/kitty/GitRepos/RandomRepos/stanford-2019/extraction/data_all/scenario_60_106.json\nWriting dump: /Users/kitty/GitRepos/RandomRepos/stanford-2019/extraction/data_all/scenario_60_107.json\nWriting dump: /Users/kitty/GitRepos/RandomRepos/stanford-2019/extraction/data_all/scenario_60_108.json\nWriting dump: /Users/kitty/GitRepos/RandomRepos/stanford-2019/extraction/data_all/scenario_60_109.json\nWriting dump: /Users/kitty/GitRepos/RandomRepos/stanford-2019/extraction/data_all/scenario_60_110.json\nWriting dump: /Users/kitty/GitRepos/RandomRepos/stanford-2019/extraction/data_all/scenario_60_111.json\nWriting dump: /Users/kitty/GitRepos/RandomRepos/stanford-2019/extraction/data_all/scenario_60_112.json\nWriting dump: /Users/kitty/GitRepos/RandomRepos/stanford-2019/extraction/data_all/scenario_60_113.json\nWriting dump: /Users/kitty/GitRepos/RandomRepos/stanford-2019/extraction/data_all/scenario_60_114.json\nWriting dump: /Users/kitty/GitRepos/RandomRepos/stanford-2019/extraction/data_all/scenario_60_115.json\nWriting dump: /Users/kitty/GitRepos/RandomRepos/stanford-2019/extraction/data_all/scenario_60_116.json\nWriting dump: /Users/kitty/GitRepos/RandomRepos/stanford-2019/extraction/data_all/scenario_60_117.json\nWriting dump: /Users/kitty/GitRepos/RandomRepos/stanford-2019/extraction/data_all/scenario_60_118.json\nWriting dump: /Users/kitty/GitRepos/RandomRepos/stanford-2019/extraction/data_all/scenario_60_119.json\nWriting dump: /Users/kitty/GitRepos/RandomRepos/stanford-2019/extraction/data_all/scenario_60_120.json\nWriting dump: /Users/kitty/GitRepos/RandomRepos/stanford-2019/extraction/data_all/scenario_60_121.json\nWriting dump: /Users/kitty/GitRepos/RandomRepos/stanford-2019/extraction/data_all/scenario_60_122.json\nWriting dump: /Users/kitty/GitRepos/RandomRepos/stanford-2019/extraction/data_all/scenario_60_123.json\nWriting dump: /Users/kitty/GitRepos/RandomRepos/stanford-2019/extraction/data_all/scenario_60_124.json\nWriting dump: /Users/kitty/GitRepos/RandomRepos/stanford-2019/extraction/data_all/scenario_60_125.json\nWriting dump: /Users/kitty/GitRepos/RandomRepos/stanford-2019/extraction/data_all/scenario_60_126.json\nWriting dump: /Users/kitty/GitRepos/RandomRepos/stanford-2019/extraction/data_all/scenario_60_127.json\nWriting dump: /Users/kitty/GitRepos/RandomRepos/stanford-2019/extraction/data_all/scenario_60_128.json\nWriting dump: /Users/kitty/GitRepos/RandomRepos/stanford-2019/extraction/data_all/scenario_60_129.json\nWriting dump: /Users/kitty/GitRepos/RandomRepos/stanford-2019/extraction/data_all/scenario_60_130.json\nWriting dump: /Users/kitty/GitRepos/RandomRepos/stanford-2019/extraction/data_all/scenario_60_131.json\nWriting dump: /Users/kitty/GitRepos/RandomRepos/stanford-2019/extraction/data_all/scenario_60_132.json\nWriting dump: /Users/kitty/GitRepos/RandomRepos/stanford-2019/extraction/data_all/scenario_60_133.json\nWriting dump: /Users/kitty/GitRepos/RandomRepos/stanford-2019/extraction/data_all/scenario_60_134.json\nWriting dump: /Users/kitty/GitRepos/RandomRepos/stanford-2019/extraction/data_all/scenario_60_135.json\nWriting dump: /Users/kitty/GitRepos/RandomRepos/stanford-2019/extraction/data_all/scenario_60_136.json\nWriting dump: /Users/kitty/GitRepos/RandomRepos/stanford-2019/extraction/data_all/scenario_60_137.json\nWriting dump: /Users/kitty/GitRepos/RandomRepos/stanford-2019/extraction/data_all/scenario_60_138.json\nWriting dump: /Users/kitty/GitRepos/RandomRepos/stanford-2019/extraction/data_all/scenario_60_139.json\nWriting dump: /Users/kitty/GitRepos/RandomRepos/stanford-2019/extraction/data_all/scenario_60_140.json\nWriting dump: /Users/kitty/GitRepos/RandomRepos/stanford-2019/extraction/data_all/scenario_60_141.json\nWriting dump: /Users/kitty/GitRepos/RandomRepos/stanford-2019/extraction/data_all/scenario_60_142.json\nWriting dump: /Users/kitty/GitRepos/RandomRepos/stanford-2019/extraction/data_all/scenario_60_143.json\nWriting dump: /Users/kitty/GitRepos/RandomRepos/stanford-2019/extraction/data_all/scenario_60_144.json\nWriting dump: /Users/kitty/GitRepos/RandomRepos/stanford-2019/extraction/data_all/scenario_60_145.json\nWriting dump: /Users/kitty/GitRepos/RandomRepos/stanford-2019/extraction/data_all/scenario_60_146.json\nWriting dump: /Users/kitty/GitRepos/RandomRepos/stanford-2019/extraction/data_all/scenario_60_147.json\nWriting dump: /Users/kitty/GitRepos/RandomRepos/stanford-2019/extraction/data_all/scenario_60_148.json\nWriting dump: /Users/kitty/GitRepos/RandomRepos/stanford-2019/extraction/data_all/scenario_60_149.json\nWriting dump: /Users/kitty/GitRepos/RandomRepos/stanford-2019/extraction/data_all/scenario_60_150.json\nWriting dump: /Users/kitty/GitRepos/RandomRepos/stanford-2019/extraction/data_all/scenario_60_151.json\nWriting dump: /Users/kitty/GitRepos/RandomRepos/stanford-2019/extraction/data_all/scenario_60_152.json\nWriting dump: /Users/kitty/GitRepos/RandomRepos/stanford-2019/extraction/data_all/scenario_60_153.json\nWriting dump: /Users/kitty/GitRepos/RandomRepos/stanford-2019/extraction/data_all/scenario_60_154.json\nWriting dump: /Users/kitty/GitRepos/RandomRepos/stanford-2019/extraction/data_all/scenario_60_155.json\nWriting dump: /Users/kitty/GitRepos/RandomRepos/stanford-2019/extraction/data_all/scenario_60_156.json\nWriting dump: /Users/kitty/GitRepos/RandomRepos/stanford-2019/extraction/data_all/scenario_60_157.json\nWriting dump: /Users/kitty/GitRepos/RandomRepos/stanford-2019/extraction/data_all/scenario_60_158.json\nWriting dump: /Users/kitty/GitRepos/RandomRepos/stanford-2019/extraction/data_all/scenario_60_159.json\nWriting dump: /Users/kitty/GitRepos/RandomRepos/stanford-2019/extraction/data_all/scenario_60_160.json\nWriting dump: /Users/kitty/GitRepos/RandomRepos/stanford-2019/extraction/data_all/scenario_60_161.json\nWriting dump: /Users/kitty/GitRepos/RandomRepos/stanford-2019/extraction/data_all/scenario_60_162.json\nWriting dump: /Users/kitty/GitRepos/RandomRepos/stanford-2019/extraction/data_all/scenario_60_163.json\nWriting dump: /Users/kitty/GitRepos/RandomRepos/stanford-2019/extraction/data_all/scenario_60_164.json\nWriting dump: /Users/kitty/GitRepos/RandomRepos/stanford-2019/extraction/data_all/scenario_60_165.json\nWriting dump: /Users/kitty/GitRepos/RandomRepos/stanford-2019/extraction/data_all/scenario_60_166.json\nWriting dump: /Users/kitty/GitRepos/RandomRepos/stanford-2019/extraction/data_all/scenario_60_167.json\nWriting dump: /Users/kitty/GitRepos/RandomRepos/stanford-2019/extraction/data_all/scenario_60_168.json\nWriting dump: /Users/kitty/GitRepos/RandomRepos/stanford-2019/extraction/data_all/scenario_60_169.json\nWriting dump: /Users/kitty/GitRepos/RandomRepos/stanford-2019/extraction/data_all/scenario_60_170.json\nWriting dump: /Users/kitty/GitRepos/RandomRepos/stanford-2019/extraction/data_all/scenario_60_171.json\nWriting dump: /Users/kitty/GitRepos/RandomRepos/stanford-2019/extraction/data_all/scenario_60_172.json\nWriting dump: /Users/kitty/GitRepos/RandomRepos/stanford-2019/extraction/data_all/scenario_60_173.json\nWriting dump: /Users/kitty/GitRepos/RandomRepos/stanford-2019/extraction/data_all/scenario_60_174.json\nWriting dump: /Users/kitty/GitRepos/RandomRepos/stanford-2019/extraction/data_all/scenario_60_175.json\nWriting dump: /Users/kitty/GitRepos/RandomRepos/stanford-2019/extraction/data_all/scenario_60_176.json\nWriting dump: /Users/kitty/GitRepos/RandomRepos/stanford-2019/extraction/data_all/scenario_60_177.json\nWriting dump: /Users/kitty/GitRepos/RandomRepos/stanford-2019/extraction/data_all/scenario_60_178.json\nWriting dump: /Users/kitty/GitRepos/RandomRepos/stanford-2019/extraction/data_all/scenario_60_179.json\nWriting dump: /Users/kitty/GitRepos/RandomRepos/stanford-2019/extraction/data_all/scenario_60_180.json\nWriting dump: /Users/kitty/GitRepos/RandomRepos/stanford-2019/extraction/data_all/scenario_60_181.json\nWriting dump: /Users/kitty/GitRepos/RandomRepos/stanford-2019/extraction/data_all/scenario_60_182.json\nWriting dump: /Users/kitty/GitRepos/RandomRepos/stanford-2019/extraction/data_all/scenario_60_183.json\nWriting dump: /Users/kitty/GitRepos/RandomRepos/stanford-2019/extraction/data_all/scenario_60_184.json\nWriting dump: /Users/kitty/GitRepos/RandomRepos/stanford-2019/extraction/data_all/scenario_60_185.json\nWriting dump: /Users/kitty/GitRepos/RandomRepos/stanford-2019/extraction/data_all/scenario_60_186.json\nWriting dump: /Users/kitty/GitRepos/RandomRepos/stanford-2019/extraction/data_all/scenario_60_187.json\nWriting dump: /Users/kitty/GitRepos/RandomRepos/stanford-2019/extraction/data_all/scenario_60_188.json\nWriting dump: /Users/kitty/GitRepos/RandomRepos/stanford-2019/extraction/data_all/scenario_60_189.json\nWriting dump: /Users/kitty/GitRepos/RandomRepos/stanford-2019/extraction/data_all/scenario_60_190.json\nWriting dump: /Users/kitty/GitRepos/RandomRepos/stanford-2019/extraction/data_all/scenario_60_191.json\nWriting dump: /Users/kitty/GitRepos/RandomRepos/stanford-2019/extraction/data_all/scenario_60_192.json\nWriting dump: /Users/kitty/GitRepos/RandomRepos/stanford-2019/extraction/data_all/scenario_60_193.json\nWriting dump: /Users/kitty/GitRepos/RandomRepos/stanford-2019/extraction/data_all/scenario_60_194.json\nWriting dump: /Users/kitty/GitRepos/RandomRepos/stanford-2019/extraction/data_all/scenario_60_195.json\nWriting dump: /Users/kitty/GitRepos/RandomRepos/stanford-2019/extraction/data_all/scenario_60_196.json\nWriting dump: /Users/kitty/GitRepos/RandomRepos/stanford-2019/extraction/data_all/scenario_60_197.json\nWriting dump: /Users/kitty/GitRepos/RandomRepos/stanford-2019/extraction/data_all/scenario_60_198.json\nWriting dump: /Users/kitty/GitRepos/RandomRepos/stanford-2019/extraction/data_all/scenario_60_199.json\nWriting dump: /Users/kitty/GitRepos/RandomRepos/stanford-2019/extraction/data_all/scenario_60_200.json\nWriting dump: /Users/kitty/GitRepos/RandomRepos/stanford-2019/extraction/data_all/scenario_60_201.json\nWriting dump: /Users/kitty/GitRepos/RandomRepos/stanford-2019/extraction/data_all/scenario_60_202.json\nWriting dump: /Users/kitty/GitRepos/RandomRepos/stanford-2019/extraction/data_all/scenario_60_203.json\nWriting dump: /Users/kitty/GitRepos/RandomRepos/stanford-2019/extraction/data_all/scenario_60_204.json\nWriting dump: /Users/kitty/GitRepos/RandomRepos/stanford-2019/extraction/data_all/scenario_60_205.json\nWriting dump: /Users/kitty/GitRepos/RandomRepos/stanford-2019/extraction/data_all/scenario_60_206.json\nWriting dump: /Users/kitty/GitRepos/RandomRepos/stanford-2019/extraction/data_all/scenario_60_207.json\nWriting dump: /Users/kitty/GitRepos/RandomRepos/stanford-2019/extraction/data_all/scenario_60_208.json\nWriting dump: /Users/kitty/GitRepos/RandomRepos/stanford-2019/extraction/data_all/scenario_60_209.json\nWriting dump: /Users/kitty/GitRepos/RandomRepos/stanford-2019/extraction/data_all/scenario_60_210.json\nWriting dump: /Users/kitty/GitRepos/RandomRepos/stanford-2019/extraction/data_all/scenario_60_211.json\nWriting dump: /Users/kitty/GitRepos/RandomRepos/stanford-2019/extraction/data_all/scenario_60_212.json\nWriting dump: /Users/kitty/GitRepos/RandomRepos/stanford-2019/extraction/data_all/scenario_60_213.json\nWriting dump: /Users/kitty/GitRepos/RandomRepos/stanford-2019/extraction/data_all/scenario_60_214.json\nWriting dump: /Users/kitty/GitRepos/RandomRepos/stanford-2019/extraction/data_all/scenario_60_215.json\nWriting dump: /Users/kitty/GitRepos/RandomRepos/stanford-2019/extraction/data_all/scenario_60_216.json\nWriting dump: /Users/kitty/GitRepos/RandomRepos/stanford-2019/extraction/data_all/scenario_60_217.json\nWriting dump: /Users/kitty/GitRepos/RandomRepos/stanford-2019/extraction/data_all/scenario_60_218.json\nWriting dump: /Users/kitty/GitRepos/RandomRepos/stanford-2019/extraction/data_all/scenario_60_219.json\nWriting dump: /Users/kitty/GitRepos/RandomRepos/stanford-2019/extraction/data_all/scenario_60_220.json\nWriting dump: /Users/kitty/GitRepos/RandomRepos/stanford-2019/extraction/data_all/scenario_60_221.json\nWriting dump: /Users/kitty/GitRepos/RandomRepos/stanford-2019/extraction/data_all/scenario_60_222.json\nWriting dump: /Users/kitty/GitRepos/RandomRepos/stanford-2019/extraction/data_all/scenario_60_223.json\nWriting dump: /Users/kitty/GitRepos/RandomRepos/stanford-2019/extraction/data_all/scenario_60_224.json\nWriting dump: /Users/kitty/GitRepos/RandomRepos/stanford-2019/extraction/data_all/scenario_60_225.json\nWriting dump: /Users/kitty/GitRepos/RandomRepos/stanford-2019/extraction/data_all/scenario_60_226.json\nWriting dump: /Users/kitty/GitRepos/RandomRepos/stanford-2019/extraction/data_all/scenario_60_227.json\nWriting dump: /Users/kitty/GitRepos/RandomRepos/stanford-2019/extraction/data_all/scenario_60_228.json\nWriting dump: /Users/kitty/GitRepos/RandomRepos/stanford-2019/extraction/data_all/scenario_60_229.json\nWriting dump: /Users/kitty/GitRepos/RandomRepos/stanford-2019/extraction/data_all/scenario_60_230.json\nWriting dump: /Users/kitty/GitRepos/RandomRepos/stanford-2019/extraction/data_all/scenario_60_231.json\nWriting dump: /Users/kitty/GitRepos/RandomRepos/stanford-2019/extraction/data_all/scenario_60_232.json\nWriting dump: /Users/kitty/GitRepos/RandomRepos/stanford-2019/extraction/data_all/scenario_60_233.json\nWriting dump: /Users/kitty/GitRepos/RandomRepos/stanford-2019/extraction/data_all/scenario_60_234.json\nWriting dump: /Users/kitty/GitRepos/RandomRepos/stanford-2019/extraction/data_all/scenario_60_235.json\nWriting dump: /Users/kitty/GitRepos/RandomRepos/stanford-2019/extraction/data_all/scenario_60_236.json\nWriting dump: /Users/kitty/GitRepos/RandomRepos/stanford-2019/extraction/data_all/scenario_60_237.json\nWriting dump: /Users/kitty/GitRepos/RandomRepos/stanford-2019/extraction/data_all/scenario_60_238.json\nWriting dump: /Users/kitty/GitRepos/RandomRepos/stanford-2019/extraction/data_all/scenario_60_239.json\nWriting dump: /Users/kitty/GitRepos/RandomRepos/stanford-2019/extraction/data_all/scenario_60_240.json\nWriting dump: /Users/kitty/GitRepos/RandomRepos/stanford-2019/extraction/data_all/scenario_60_241.json\nWriting dump: /Users/kitty/GitRepos/RandomRepos/stanford-2019/extraction/data_all/scenario_60_242.json\nWriting dump: /Users/kitty/GitRepos/RandomRepos/stanford-2019/extraction/data_all/scenario_60_243.json\nWriting dump: /Users/kitty/GitRepos/RandomRepos/stanford-2019/extraction/data_all/scenario_60_244.json\nWriting dump: /Users/kitty/GitRepos/RandomRepos/stanford-2019/extraction/data_all/scenario_60_245.json\nWriting dump: /Users/kitty/GitRepos/RandomRepos/stanford-2019/extraction/data_all/scenario_60_246.json\nWriting dump: /Users/kitty/GitRepos/RandomRepos/stanford-2019/extraction/data_all/scenario_60_247.json\nWriting dump: /Users/kitty/GitRepos/RandomRepos/stanford-2019/extraction/data_all/scenario_60_248.json\nWriting dump: /Users/kitty/GitRepos/RandomRepos/stanford-2019/extraction/data_all/scenario_60_249.json\nWriting dump: /Users/kitty/GitRepos/RandomRepos/stanford-2019/extraction/data_all/scenario_60_250.json\nWriting dump: /Users/kitty/GitRepos/RandomRepos/stanford-2019/extraction/data_all/scenario_60_251.json\nWriting dump: /Users/kitty/GitRepos/RandomRepos/stanford-2019/extraction/data_all/scenario_60_252.json\nWriting dump: /Users/kitty/GitRepos/RandomRepos/stanford-2019/extraction/data_all/scenario_60_253.json\nWriting dump: /Users/kitty/GitRepos/RandomRepos/stanford-2019/extraction/data_all/scenario_60_254.json\nWriting dump: /Users/kitty/GitRepos/RandomRepos/stanford-2019/extraction/data_all/scenario_60_255.json\nWriting dump: /Users/kitty/GitRepos/RandomRepos/stanford-2019/extraction/data_all/scenario_60_256.json\nWriting dump: /Users/kitty/GitRepos/RandomRepos/stanford-2019/extraction/data_all/scenario_60_257.json\nWriting dump: /Users/kitty/GitRepos/RandomRepos/stanford-2019/extraction/data_all/scenario_60_258.json\nWriting dump: /Users/kitty/GitRepos/RandomRepos/stanford-2019/extraction/data_all/scenario_60_259.json\nWriting dump: /Users/kitty/GitRepos/RandomRepos/stanford-2019/extraction/data_all/scenario_60_260.json\nWriting dump: /Users/kitty/GitRepos/RandomRepos/stanford-2019/extraction/data_all/scenario_60_261.json\nWriting dump: /Users/kitty/GitRepos/RandomRepos/stanford-2019/extraction/data_all/scenario_60_262.json\nWriting dump: /Users/kitty/GitRepos/RandomRepos/stanford-2019/extraction/data_all/scenario_60_263.json\nWriting dump: /Users/kitty/GitRepos/RandomRepos/stanford-2019/extraction/data_all/scenario_60_264.json\nWriting dump: /Users/kitty/GitRepos/RandomRepos/stanford-2019/extraction/data_all/scenario_60_265.json\nWriting dump: /Users/kitty/GitRepos/RandomRepos/stanford-2019/extraction/data_all/scenario_60_266.json\nWriting dump: /Users/kitty/GitRepos/RandomRepos/stanford-2019/extraction/data_all/scenario_60_267.json\nWriting dump: /Users/kitty/GitRepos/RandomRepos/stanford-2019/extraction/data_all/scenario_60_268.json\nWriting dump: /Users/kitty/GitRepos/RandomRepos/stanford-2019/extraction/data_all/scenario_60_269.json\nWriting dump: /Users/kitty/GitRepos/RandomRepos/stanford-2019/extraction/data_all/scenario_60_270.json\nWriting dump: /Users/kitty/GitRepos/RandomRepos/stanford-2019/extraction/data_all/scenario_60_271.json\nWriting dump: /Users/kitty/GitRepos/RandomRepos/stanford-2019/extraction/data_all/scenario_60_272.json\nWriting dump: /Users/kitty/GitRepos/RandomRepos/stanford-2019/extraction/data_all/scenario_60_273.json\nWriting dump: /Users/kitty/GitRepos/RandomRepos/stanford-2019/extraction/data_all/scenario_60_274.json\nWriting dump: /Users/kitty/GitRepos/RandomRepos/stanford-2019/extraction/data_all/scenario_60_275.json\nWriting dump: /Users/kitty/GitRepos/RandomRepos/stanford-2019/extraction/data_all/scenario_60_276.json\nWriting dump: /Users/kitty/GitRepos/RandomRepos/stanford-2019/extraction/data_all/scenario_60_277.json\nWriting dump: /Users/kitty/GitRepos/RandomRepos/stanford-2019/extraction/data_all/scenario_60_278.json\nWriting dump: /Users/kitty/GitRepos/RandomRepos/stanford-2019/extraction/data_all/scenario_60_279.json\n"
    }
   ],
   "source": [
    "for recording_id in range(1, 61):\n",
    "    # make a copy of the template dict and fill it for current recording\n",
    "    recording_dict = dict()\n",
    "    recording_dict['recording_meta_file'] = os.path.join(root_dir, 'highd', '{recording_id}_recordingMeta.csv').format(recording_id=str(recording_id).zfill(2))\n",
    "    recording_dict['tracks_meta_file'] = os.path.join(root_dir, 'highd', '{recording_id}_tracksMeta.csv').format(recording_id=str(recording_id).zfill(2))\n",
    "    recording_dict['tracks_file'] = os.path.join(root_dir, 'highd', '{recording_id}_tracks.csv').format(recording_id=str(recording_id).zfill(2))\n",
    "\n",
    "    # read the 3 required csv files for the current recording recording\n",
    "    recording_meta_reader = csv.DictReader(open(recording_dict['recording_meta_file']))\n",
    "    tracks_meta_reader = csv.DictReader(open(recording_dict['tracks_meta_file']))\n",
    "    tracks_reader = csv.DictReader(open(recording_dict['tracks_file']))\n",
    "    # read the only line from the meta file\n",
    "    recording_meta_row = list(recording_meta_reader)[0]\n",
    "\n",
    "    # create and init one traffic objects for each vehicle available in the recording\n",
    "    num_vehicles = int(recording_meta_row[\"numVehicles\"])\n",
    "    to_dict = dict()\n",
    "    for vehicle_id in range(1, num_vehicles + 1):\n",
    "        to = TrafficObject(vehicle_id, tracks_reader, tracks_meta_reader, recording_meta_row)\n",
    "        # ignore traffic objects which have no appearance after ignoring the starting frames\n",
    "        if len(to.time_stamps) == 0:  # this may happen because of config.extraction[\"discard_first_n_frames\"]\n",
    "            continue\n",
    "        to_dict[vehicle_id] = to   \n",
    "\n",
    "    # set the calculated traffic object dict for each traffic object\n",
    "    for vehicle_id in sorted(to_dict.keys()):\n",
    "        to = to_dict[vehicle_id]\n",
    "        to.set_others(to_dict)\n",
    "    len(list(to.to_dict.keys())) \n",
    "\n",
    "    # determine the possible relevant other traffic objects for each traffic object (step 1)\n",
    "    for vehicle_id in sorted(to_dict.keys()):\n",
    "        to = to_dict[vehicle_id]\n",
    "        to.determine_possible_relevant_others()\n",
    "    to.possible_relevant_others\n",
    "\n",
    "    # determine the relevant other traffic objects for each traffic object (step 2 and 3)\n",
    "    for vehicle_id in sorted(to_dict.keys()):\n",
    "        to = to_dict[vehicle_id]\n",
    "        to.determine_relevant_others(include_8_car_filter=True)  # true = with 8 car filter, false = without 8 car filter\n",
    "    to.time_stamps[0].relevant_others\n",
    "\n",
    "    for vehicle_id in sorted(to_dict.keys()):\n",
    "        to = to_dict[vehicle_id]\n",
    "        to.extract_maneuvers()\n",
    "\n",
    "    for vehicle_id in sorted(to_dict.keys()):\n",
    "        to = to_dict[vehicle_id]\n",
    "        to.extract_scenarios()\n",
    "\n",
    "    scenarios = list()\n",
    "    scenario_data = list()\n",
    "    counter = 1  # counter for marking the scenarios\n",
    "    for vehicle_id in sorted(to_dict.keys()):  # check every traffic object\n",
    "        to = to_dict[vehicle_id]\n",
    "        for s in to.scenario_list:  # check every lane change maneuver for this traffic object\n",
    "            if len(s.traffic_objects_id) > 0:  # include scenario only if other traffic objects are involved\n",
    "\n",
    "                # set the unique scenario number\n",
    "                s.scenario_number = counter\n",
    "\n",
    "                # appedn the scenario to the list for later meta data extraction \n",
    "                scenarios.append(s)\n",
    "\n",
    "                # create file name\n",
    "                file_name_data = os.path.join(os.getcwd(), \"data_all\", \"scenario_\" + str(recording_id).zfill(2) + \"_\" + str(s.scenario_number).zfill(3) + \".json\")\n",
    "\n",
    "                # dump to json\n",
    "                df = s.evaluate(to_dict)\n",
    "                df = df.reset_index()\n",
    "                scenario_data.append(df)\n",
    "                dump_json(file_name_data, json.loads(df.to_json(orient='records')))\n",
    "\n",
    "                # update counter\n",
    "                counter += 1"
   ]
  },
  {
   "cell_type": "code",
   "execution_count": null,
   "metadata": {},
   "outputs": [],
   "source": []
  }
 ],
 "metadata": {
  "kernelspec": {
   "display_name": "Python 3.7.2 64-bit ('tools_network': conda)",
   "language": "python",
   "name": "python37264bittoolsnetworkcondac1c6448628bc424fb37a7079ff2306d9"
  },
  "language_info": {
   "codemirror_mode": {
    "name": "ipython",
    "version": 3
   },
   "file_extension": ".py",
   "mimetype": "text/x-python",
   "name": "python",
   "nbconvert_exporter": "python",
   "pygments_lexer": "ipython3",
   "version": "3.7.2-final"
  }
 },
 "nbformat": 4,
 "nbformat_minor": 2
}